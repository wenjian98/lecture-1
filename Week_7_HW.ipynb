{
  "cells": [
    {
      "cell_type": "markdown",
      "metadata": {
        "id": "view-in-github",
        "colab_type": "text"
      },
      "source": [
        "<a href=\"https://colab.research.google.com/github/wenjian98/lecture-1/blob/main/Week_7_HW.ipynb\" target=\"_parent\"><img src=\"https://colab.research.google.com/assets/colab-badge.svg\" alt=\"Open In Colab\"/></a>"
      ]
    },
    {
      "cell_type": "code",
      "execution_count": null,
      "metadata": {
        "id": "Z9sYcDE-qV7z"
      },
      "outputs": [],
      "source": []
    },
    {
      "cell_type": "markdown",
      "metadata": {
        "id": "6dJuZDx9qWeM"
      },
      "source": [
        "# 1.) Import an asset price from Yahoo Finance"
      ]
    },
    {
      "cell_type": "code",
      "execution_count": null,
      "metadata": {
        "colab": {
          "base_uri": "https://localhost:8080/"
        },
        "id": "QxUUnTVTrx3m",
        "outputId": "9730200a-27b3-4656-be32-4b19d6cf17e9"
      },
      "outputs": [
        {
          "output_type": "stream",
          "name": "stdout",
          "text": [
            "Looking in indexes: https://pypi.org/simple, https://us-python.pkg.dev/colab-wheels/public/simple/\n",
            "Requirement already satisfied: yfinance in /usr/local/lib/python3.8/dist-packages (0.2.12)\n",
            "Requirement already satisfied: appdirs>=1.4.4 in /usr/local/lib/python3.8/dist-packages (from yfinance) (1.4.4)\n",
            "Requirement already satisfied: beautifulsoup4>=4.11.1 in /usr/local/lib/python3.8/dist-packages (from yfinance) (4.11.2)\n",
            "Requirement already satisfied: pytz>=2022.5 in /usr/local/lib/python3.8/dist-packages (from yfinance) (2022.7.1)\n",
            "Requirement already satisfied: numpy>=1.16.5 in /usr/local/lib/python3.8/dist-packages (from yfinance) (1.22.4)\n",
            "Requirement already satisfied: requests>=2.26 in /usr/local/lib/python3.8/dist-packages (from yfinance) (2.28.2)\n",
            "Requirement already satisfied: lxml>=4.9.1 in /usr/local/lib/python3.8/dist-packages (from yfinance) (4.9.2)\n",
            "Requirement already satisfied: html5lib>=1.1 in /usr/local/lib/python3.8/dist-packages (from yfinance) (1.1)\n",
            "Requirement already satisfied: frozendict>=2.3.4 in /usr/local/lib/python3.8/dist-packages (from yfinance) (2.3.5)\n",
            "Requirement already satisfied: multitasking>=0.0.7 in /usr/local/lib/python3.8/dist-packages (from yfinance) (0.0.11)\n",
            "Requirement already satisfied: pandas>=1.3.0 in /usr/local/lib/python3.8/dist-packages (from yfinance) (1.3.5)\n",
            "Requirement already satisfied: cryptography>=3.3.2 in /usr/local/lib/python3.8/dist-packages (from yfinance) (39.0.1)\n",
            "Requirement already satisfied: soupsieve>1.2 in /usr/local/lib/python3.8/dist-packages (from beautifulsoup4>=4.11.1->yfinance) (2.4)\n",
            "Requirement already satisfied: cffi>=1.12 in /usr/local/lib/python3.8/dist-packages (from cryptography>=3.3.2->yfinance) (1.15.1)\n",
            "Requirement already satisfied: six>=1.9 in /usr/local/lib/python3.8/dist-packages (from html5lib>=1.1->yfinance) (1.15.0)\n",
            "Requirement already satisfied: webencodings in /usr/local/lib/python3.8/dist-packages (from html5lib>=1.1->yfinance) (0.5.1)\n",
            "Requirement already satisfied: python-dateutil>=2.7.3 in /usr/local/lib/python3.8/dist-packages (from pandas>=1.3.0->yfinance) (2.8.2)\n",
            "Requirement already satisfied: certifi>=2017.4.17 in /usr/local/lib/python3.8/dist-packages (from requests>=2.26->yfinance) (2022.12.7)\n",
            "Requirement already satisfied: idna<4,>=2.5 in /usr/local/lib/python3.8/dist-packages (from requests>=2.26->yfinance) (2.10)\n",
            "Requirement already satisfied: charset-normalizer<4,>=2 in /usr/local/lib/python3.8/dist-packages (from requests>=2.26->yfinance) (3.0.1)\n",
            "Requirement already satisfied: urllib3<1.27,>=1.21.1 in /usr/local/lib/python3.8/dist-packages (from requests>=2.26->yfinance) (1.24.3)\n",
            "Requirement already satisfied: pycparser in /usr/local/lib/python3.8/dist-packages (from cffi>=1.12->cryptography>=3.3.2->yfinance) (2.21)\n"
          ]
        }
      ],
      "source": [
        "pip install yfinance"
      ]
    },
    {
      "cell_type": "code",
      "execution_count": null,
      "metadata": {
        "colab": {
          "base_uri": "https://localhost:8080/"
        },
        "id": "Y3bcwJb4rp93",
        "outputId": "f3425450-121f-43d7-c8f1-e8f245a7c485"
      },
      "outputs": [
        {
          "output_type": "stream",
          "name": "stdout",
          "text": [
            "\r[*********************100%***********************]  1 of 1 completed\n"
          ]
        }
      ],
      "source": [
        "import yfinance as yf\n",
        "import numpy as np\n",
        "import pandas as pd\n",
        "from sklearn.preprocessing import MinMaxScaler\n",
        "from tensorflow.keras.models import Sequential\n",
        "from tensorflow.keras.layers import Dense, LSTM, Dropout\n",
        "\n",
        "\n",
        "\n",
        "########################################\n",
        "####Pick your ticker and time period####\n",
        "########################################\n",
        "stock_data = yf.download(\"MSFT\", start=\"2010-01-01\", end=\"2022-02-21\")\n",
        "\n",
        "\n",
        "\n",
        "# Preprocess data\n",
        "scaled_data = np.array(stock_data[\"Close\"].pct_change().dropna()).reshape(-1,1)\n",
        "\n",
        "\n",
        "# Split data into training and test sets\n",
        "training_data_len = int(len(scaled_data) * 0.8)\n",
        "train_data = scaled_data[0:training_data_len, :]\n",
        "\n"
      ]
    },
    {
      "cell_type": "markdown",
      "metadata": {
        "id": "foHoGy9hq3_o"
      },
      "source": [
        "# 2.) Create your x_train/y_train data so that your RNN uses percentage change data to make a binary forecast where the stock moves up or down the next day\n",
        "# Build an RNN Architecture accordingly"
      ]
    },
    {
      "cell_type": "code",
      "execution_count": null,
      "metadata": {
        "id": "5qGFB5HfqcVd",
        "colab": {
          "base_uri": "https://localhost:8080/"
        },
        "outputId": "a15a1c80-ee66-4eca-c824-37e20a76d4e8"
      },
      "outputs": [
        {
          "output_type": "stream",
          "name": "stdout",
          "text": [
            "Epoch 1/3\n",
            "2439/2439 [==============================] - 6s 2ms/step - loss: 2.1322e-04\n",
            "Epoch 2/3\n",
            "2439/2439 [==============================] - 4s 2ms/step - loss: 2.1104e-04\n",
            "Epoch 3/3\n",
            "2439/2439 [==============================] - 5s 2ms/step - loss: 2.0989e-04\n"
          ]
        },
        {
          "output_type": "execute_result",
          "data": {
            "text/plain": [
              "<keras.callbacks.History at 0x7f206fc346d0>"
            ]
          },
          "metadata": {},
          "execution_count": 55
        }
      ],
      "source": [
        "x_train = []\n",
        "y_train = []\n",
        "\n",
        "\n",
        "#############################################################\n",
        "####Pick your input size and edit to make binary forecast####\n",
        "#############################################################\n",
        "input_size = 4\n",
        "for i in range(input_size, len(train_data)):\n",
        "    x_train.append(train_data[i-input_size:i, 0])\n",
        "    y_train.append(train_data[i, 0])\n",
        "\n",
        "\n",
        "x_train, y_train = np.array(x_train), np.array(y_train)\n",
        "x_train = np.reshape(x_train, (x_train.shape[0], x_train.shape[1], 1))\n",
        "\n",
        "###################################\n",
        "####Build Your RNN Architecture####\n",
        "###################################\n",
        "model = Sequential()\n",
        "model.add(LSTM(x_train.shape[1], return_sequences=True, input_shape=(x_train.shape[1], 1)))\n",
        "#Examples\n",
        "#model.add(LSTM(50, return_sequences=False))\n",
        "#model.add(Dense(25))\n",
        "\n",
        "\n",
        "\n",
        "\n",
        "model.compile(optimizer='adam', loss='mean_squared_error')\n",
        "model.fit(x_train, y_train, batch_size=1, epochs=3)"
      ]
    },
    {
      "cell_type": "code",
      "execution_count": null,
      "metadata": {
        "id": "p3BlSFA8Na77"
      },
      "outputs": [],
      "source": []
    },
    {
      "cell_type": "markdown",
      "metadata": {
        "id": "yFhO9vMjsWPk"
      },
      "source": [
        "# 3.) Test your model and compare insample Accurracy, insample random walk assumption Accuracy, Out of sample Accuracy and out of sample random walk assumption Accuracy using a bar chart"
      ]
    },
    {
      "cell_type": "code",
      "execution_count": null,
      "metadata": {
        "id": "r1Xj6Ji-rwnM",
        "colab": {
          "base_uri": "https://localhost:8080/"
        },
        "outputId": "41c0e0d1-68bc-47b6-b9d6-9f649d787ee5"
      },
      "outputs": [
        {
          "output_type": "stream",
          "name": "stdout",
          "text": [
            "20/20 [==============================] - 0s 1ms/step\n",
            "77/77 [==============================] - 0s 1ms/step\n"
          ]
        }
      ],
      "source": [
        "\n",
        "test_data = scaled_data[training_data_len - input_size:, :]\n",
        "\n",
        "x_test = []\n",
        "y_test = np.array(stock_data[[\"Close\"]].pct_change().dropna())[training_data_len:, :]\n",
        "for i in range(input_size, len(test_data)):\n",
        "    x_test.append(test_data[i-input_size:i, 0])\n",
        "\n",
        "x_test = np.array(x_test)\n",
        "x_test = np.reshape(x_test, (x_test.shape[0], x_test.shape[1], 1))\n",
        "\n",
        "\n",
        "\n",
        "\n",
        "predictions_test = model.predict(x_test)\n",
        "predictions_train = model.predict(x_train)\n"
      ]
    },
    {
      "cell_type": "code",
      "source": [
        "test_pred2 = np.array([predictions_test[i][0][0] for i in range(0,predictions_test.shape[0])])\n",
        "train_pred2 = np.array([predictions_train[i][0][0] for i in range(0,predictions_train.shape[0])])"
      ],
      "metadata": {
        "id": "Bbtw5DnwnnDK"
      },
      "execution_count": null,
      "outputs": []
    },
    {
      "cell_type": "code",
      "execution_count": null,
      "metadata": {
        "id": "Mvo2INihZMhk",
        "colab": {
          "base_uri": "https://localhost:8080/"
        },
        "outputId": "5a1737f2-0041-490e-8b91-ffdf7bb70a5a"
      },
      "outputs": [
        {
          "output_type": "stream",
          "name": "stdout",
          "text": [
            "RMSE_insample: 0.0002721796728886658\n",
            "insample_rw: 0.0007230299244250415\n"
          ]
        }
      ],
      "source": [
        "# insample Accurracy\n",
        "print(\"RMSE_insample:\", np.sqrt(np.mean(train_pred2-y_train)**2))\n",
        "\n",
        "# insample random walk assumption Accuracy\n",
        "print(\"insample_rw:\", np.mean(y_train))"
      ]
    },
    {
      "cell_type": "code",
      "execution_count": null,
      "metadata": {
        "id": "35O_7b3iX1cX",
        "colab": {
          "base_uri": "https://localhost:8080/"
        },
        "outputId": "64d7b167-5bf4-45ec-fd79-01eb66a3dbeb"
      },
      "outputs": [
        {
          "output_type": "stream",
          "name": "stdout",
          "text": [
            "RMSE_outsample: 0.0009597863942078842\n",
            "outsample_rw: 0.0014087563262468927\n"
          ]
        }
      ],
      "source": [
        "# outsample Accurracy\n",
        "print(\"RMSE_outsample:\", np.sqrt(np.mean(test_pred2-y_test)**2))\n",
        "\n",
        "# outsample random walk assumption Accuracy\n",
        "print(\"outsample_rw:\", np.sqrt(np.mean(test_pred2-y_test)**2))"
      ]
    },
    {
      "cell_type": "code",
      "execution_count": null,
      "metadata": {
        "id": "ZP_GJ8X-Wkln",
        "colab": {
          "base_uri": "https://localhost:8080/",
          "height": 447
        },
        "outputId": "c8a10a40-26c6-4c33-812d-fe3037c499b6"
      },
      "outputs": [
        {
          "output_type": "execute_result",
          "data": {
            "text/plain": [
              "<BarContainer object of 4 artists>"
            ]
          },
          "metadata": {},
          "execution_count": 86
        },
        {
          "output_type": "display_data",
          "data": {
            "text/plain": [
              "<Figure size 720x504 with 1 Axes>"
            ],
            "image/png": "[encoded data removed]"
          },
          "metadata": {
            "needs_background": "light"
          }
        }
      ],
      "source": [
        "accuracy = ['RMSE_insample',\"insample_rw\",\"RMSE_outsample\",\"outsample_rw\"]\n",
        "values=[np.sqrt(np.mean(train_pred2-y_train)**2),np.mean(y_train),np.sqrt(np.mean(test_pred2-y_test)**2),np.sqrt(np.mean(test_pred2-y_test)**2)]\n",
        "\n",
        "\n",
        "fig = plt.figure(figsize =(10, 7))\n",
        "plt.bar(accuracy, values)"
      ]
    },
    {
      "cell_type": "markdown",
      "metadata": {
        "id": "8bncNwh8tKiE"
      },
      "source": [
        "# 4.) Plot in and out of sample accuracy"
      ]
    },
    {
      "cell_type": "code",
      "execution_count": null,
      "metadata": {
        "id": "d698mdExtfHp",
        "colab": {
          "base_uri": "https://localhost:8080/"
        },
        "outputId": "57896396-c9cb-4989-b2c8-3599b2be06c8"
      },
      "outputs": [
        {
          "output_type": "stream",
          "name": "stdout",
          "text": [
            "20/20 [==============================] - 0s 1ms/step\n"
          ]
        }
      ],
      "source": [
        "import matplotlib.pyplot as plt\n",
        "\n",
        "# Make predictions on full dataset\n",
        "\n",
        "test_predict = model.predict(x_test)\n",
        "test_predictions = (test_predict+1).reshape(-1,1) * np.cumprod(y_test+1)\n",
        "\n"
      ]
    },
    {
      "cell_type": "code",
      "execution_count": null,
      "metadata": {
        "id": "jVPe8djTn1_2",
        "colab": {
          "base_uri": "https://localhost:8080/"
        },
        "outputId": "88c587e4-b9c2-4226-c710-5f45886c3832"
      },
      "outputs": [
        {
          "output_type": "stream",
          "name": "stdout",
          "text": [
            "77/77 [==============================] - 0s 1ms/step\n"
          ]
        }
      ],
      "source": [
        "train_predict = model.predict(x_train)\n",
        "\n"
      ]
    },
    {
      "cell_type": "code",
      "source": [
        "train_predictions = (train_predict+1).reshape(-1,1) * np.cumprod(y_train+1)\n"
      ],
      "metadata": {
        "id": "-6ttbyoHbSAL"
      },
      "execution_count": null,
      "outputs": []
    },
    {
      "cell_type": "code",
      "execution_count": null,
      "metadata": {
        "id": "QCY8DfMEtUln",
        "colab": {
          "base_uri": "https://localhost:8080/",
          "height": 296
        },
        "outputId": "81c76f19-6fbe-44e8-bd02-dc69a2a21e4e"
      },
      "outputs": [
        {
          "output_type": "stream",
          "name": "stdout",
          "text": [
            "20/20 [==============================] - 0s 2ms/step\n"
          ]
        },
        {
          "output_type": "display_data",
          "data": {
            "text/plain": [
              "<Figure size 432x288 with 1 Axes>"
            ],
            "image/png": "[encoded data removed]"
          },
          "metadata": {
            "needs_background": "light"
          }
        }
      ],
      "source": [
        "                                                                                                                                                                                                                                                                                                                                                                                                                                                                                                                                                                                                                                                                                                                                                                          \n",
        "\n",
        "plt.plot(stock_data[:training_data_len- input_size].index, np.cumprod(y_train+1), label=\"Training Data\")\n",
        "plt.plot(stock_data[:training_data_len- input_size].index, train_predictions[0], label=\"Training Predictions\")\n",
        "end_val = np.cumprod(y_train+1)[-1]\n",
        "test_predict = model.predict(x_test)\n",
        "test_predictions = (test_predict+1).reshape(-1,1) * (np.cumprod((y_test+1))*end_val)\n",
        "plt.plot(stock_data[training_data_len+1:].index, np.cumprod((y_test+1))*end_val,label=\"Test Data\")\n",
        "plt.plot(stock_data[training_data_len+1:].index, test_predictions[0], label=\"Test Predictions\")\n",
        "plt.xlabel(\"Date\")\n",
        "plt.ylabel(\"Stock Price\")\n",
        "plt.legend()\n",
        "plt.show()"
      ]
    },
    {
      "cell_type": "markdown",
      "metadata": {
        "id": "bK_jyyEEtTUB"
      },
      "source": [
        "#5.) Write an observation/conclusion about the graphs from Q4 and Q3"
      ]
    },
    {
      "cell_type": "markdown",
      "source": [
        "Out-of Sample Evaluation beats random walk 2 fold in out of sample\n",
        "\n",
        "in Sample Evaluation beats random walk 3 fold in sample\n"
      ],
      "metadata": {
        "id": "ZETbtYa0s4VU"
      }
    },
    {
      "cell_type": "markdown",
      "source": [
        "the prediction is very close the actual data, this is great."
      ],
      "metadata": {
        "id": "rpfUvO0MtSVE"
      }
    },
    {
      "cell_type": "code",
      "execution_count": null,
      "metadata": {
        "id": "FlD_yx0cshJ7"
      },
      "outputs": [],
      "source": []
    },
    {
      "cell_type": "code",
      "execution_count": null,
      "metadata": {
        "id": "N5fbjajz-YCF"
      },
      "outputs": [],
      "source": []
    },
    {
      "cell_type": "code",
      "execution_count": null,
      "metadata": {
        "id": "JKaNjoQlBPbr"
      },
      "outputs": [],
      "source": []
    },
    {
      "cell_type": "markdown",
      "metadata": {
        "id": "pFtrp-lmtw6t"
      },
      "source": [
        "# 6.) Create a parameter for number of lags in your input layer. Do a 3-fold CV to test three different time lags. i.e. Tested using 5,10,20 days of previous price data to forecast"
      ]
    },
    {
      "cell_type": "code",
      "execution_count": null,
      "metadata": {
        "id": "kEOQ6TO0-Fnw"
      },
      "outputs": [],
      "source": [
        "from matplotlib.lines import ls_mapper\n",
        "from sklearn.model_selection import GridSearchCV, cross_val_score\n",
        "from keras.wrappers.scikit_learn import KerasClassifier\n",
        "from keras.wrappers.scikit_learn import KerasRegressor\n"
      ]
    },
    {
      "cell_type": "code",
      "source": [
        "\n",
        "# Define the Keras model\n",
        "###Edit here to create your optimizer\n",
        "def create_model_5():\n",
        "    model = Sequential()\n",
        "    model.add(LSTM(5, dropout=0.2, return_sequences=False))\n",
        "    model.add(Dense(1, activation='sigmoid'))\n",
        "    model.compile(loss='binary_crossentropy', optimizer='adam', metrics=['accuracy'])\n",
        "    return(model)\n",
        "\n",
        "def create_model_10():\n",
        "    model = Sequential()\n",
        "    model.add(LSTM(10, dropout=0.2, return_sequences=False))\n",
        "    model.add(Dense(1, activation='sigmoid'))\n",
        "    model.compile(loss='binary_crossentropy', optimizer='adam', metrics=['accuracy'])\n",
        "    return(model)\n",
        "\n",
        "def create_model_20():\n",
        "    model = Sequential()\n",
        "    model.add(LSTM(20, dropout=0.2, return_sequences=False))\n",
        "    model.add(Dense(1, activation='sigmoid'))\n",
        "    model.compile(loss='binary_crossentropy', optimizer='adam', metrics=['accuracy'])\n",
        "    return(model)\n",
        "\n",
        "model1 = KerasRegressor(build_fn=create_model_5, verbose=0)\n",
        "model1.fit(x_train, y_train)\n",
        "model2 = KerasRegressor(build_fn=create_model_10, verbose=0)\n",
        "model2.fit(x_train, y_train)\n",
        "model3 = KerasRegressor(build_fn=create_model_20, verbose=0)\n",
        "model3.fit(x_train, y_train)\n"
      ],
      "metadata": {
        "colab": {
          "base_uri": "https://localhost:8080/"
        },
        "id": "vTjbm3I-xYLm",
        "outputId": "81f61d19-972d-4ee1-b18f-3fb051924b1d"
      },
      "execution_count": null,
      "outputs": [
        {
          "output_type": "stream",
          "name": "stderr",
          "text": [
            "<ipython-input-112-ec74e89e333c>:24: DeprecationWarning: KerasRegressor is deprecated, use Sci-Keras (https://github.com/adriangb/scikeras) instead. See https://www.adriangb.com/scikeras/stable/migration.html for help migrating.\n",
            "  model1 = KerasRegressor(build_fn=create_model_5, verbose=0)\n",
            "<ipython-input-112-ec74e89e333c>:27: DeprecationWarning: KerasRegressor is deprecated, use Sci-Keras (https://github.com/adriangb/scikeras) instead. See https://www.adriangb.com/scikeras/stable/migration.html for help migrating.\n",
            "  model2 = KerasRegressor(build_fn=create_model_10, verbose=0)\n",
            "<ipython-input-112-ec74e89e333c>:29: DeprecationWarning: KerasRegressor is deprecated, use Sci-Keras (https://github.com/adriangb/scikeras) instead. See https://www.adriangb.com/scikeras/stable/migration.html for help migrating.\n",
            "  model3 = KerasRegressor(build_fn=create_model_20, verbose=0)\n"
          ]
        },
        {
          "output_type": "execute_result",
          "data": {
            "text/plain": [
              "<keras.callbacks.History at 0x7f207b8a1eb0>"
            ]
          },
          "metadata": {},
          "execution_count": 112
        }
      ]
    },
    {
      "cell_type": "code",
      "source": [
        "print(\"lag_5:\",np.mean(cross_val_score(model1,x_train, y_train, cv=3, scoring='neg_mean_squared_error')))\n",
        "print(\"lag_10:\",np.mean(cross_val_score(model2,x_train, y_train, cv=3, scoring='neg_mean_squared_error')))\n",
        "print(\"lag_20:\",np.mean(cross_val_score(model3,x_train, y_train, cv=3, scoring='neg_mean_squared_error')))"
      ],
      "metadata": {
        "colab": {
          "base_uri": "https://localhost:8080/"
        },
        "id": "URK_5XxkyrsI",
        "outputId": "d2fad06f-7f1e-4d5c-b710-24a8338d647c"
      },
      "execution_count": null,
      "outputs": [
        {
          "output_type": "stream",
          "name": "stdout",
          "text": [
            "lag_5: -0.2057536414614868\n",
            "lag_10: -0.18375085685882295\n",
            "lag_20: -0.14604176569740082\n"
          ]
        }
      ]
    },
    {
      "cell_type": "code",
      "execution_count": null,
      "metadata": {
        "id": "QA_gAupmA_8E"
      },
      "outputs": [],
      "source": []
    },
    {
      "cell_type": "code",
      "execution_count": null,
      "metadata": {
        "id": "vfH6js5EB2wu"
      },
      "outputs": [],
      "source": []
    }
  ],
  "metadata": {
    "colab": {
      "provenance": [],
      "include_colab_link": true
    },
    "kernelspec": {
      "display_name": "Python 3 (ipykernel)",
      "language": "python",
      "name": "python3"
    },
    "language_info": {
      "codemirror_mode": {
        "name": "ipython",
        "version": 3
      },
      "file_extension": ".py",
      "mimetype": "text/x-python",
      "name": "python",
      "nbconvert_exporter": "python",
      "pygments_lexer": "ipython3",
      "version": "3.9.12"
    }
  },
  "nbformat": 4,
  "nbformat_minor": 0
}